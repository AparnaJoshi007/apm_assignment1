{
 "cells": [
  {
   "cell_type": "markdown",
   "id": "0bbd1e95",
   "metadata": {},
   "source": [
    "# Setup"
   ]
  },
  {
   "cell_type": "markdown",
   "id": "e324e5ae",
   "metadata": {},
   "source": [
    "Here, we already imported most of the packages that you might want to use"
   ]
  },
  {
   "cell_type": "code",
   "execution_count": 7,
   "id": "d7e47cf0",
   "metadata": {},
   "outputs": [],
   "source": [
    "import os\n",
    "import pandas as pd\n",
    "import numpy as np"
   ]
  },
  {
   "cell_type": "code",
   "execution_count": 2,
   "id": "d3687a02",
   "metadata": {},
   "outputs": [
    {
     "name": "stderr",
     "output_type": "stream",
     "text": [
      "/Users/aparnajoshi/opt/anaconda3/envs/APM2021/lib/python3.7/site-packages/pm4py/algo/conformance/alignments/algorithm.py:19: UserWarning: please use pm4py.algo.conformance.alignments.petri_net.algorithm instead\n",
      "  warnings.warn(\"please use pm4py.algo.conformance.alignments.petri_net.algorithm instead\")\n"
     ]
    }
   ],
   "source": [
    "import pm4py\n",
    "\n",
    "## Log Util\n",
    "# Log conversion\n",
    "from pm4py.objects.conversion.log import converter as log_converter\n",
    "# Read Log (e.g., If you can not use the simplified interface because you do not have ipywidgets installed)\n",
    "from pm4py.objects.log.importer.xes import importer as xes_importer\n",
    "\n",
    "## Conformance Checking\n",
    "# Token-based replay (e.g., If you can not use the simplified interface because you do not have ipywidgets installed)\n",
    "from pm4py.algo.evaluation.replay_fitness import evaluator as replay_fitness_evaluator\n",
    "from pm4py.algo.conformance.tokenreplay import algorithm as token_replay\n",
    "# Standard Alignments (e.g., If you can not use the simplified interface because you do not have ipywidgets installed)\n",
    "from pm4py.algo.conformance.alignments import algorithm as alignments\n",
    "# Decomposed Alignments (e.g., If you can not use the simplified interface because you do not have ipywidgets installed)\n",
    "from pm4py.algo.conformance.alignments.decomposed import algorithm as decomp_alignments\n",
    "\n",
    "## Petri Nets\n",
    "from pm4py.objects.petri_net.obj import PetriNet, Marking\n",
    "from pm4py.objects.petri_net.utils import petri_utils"
   ]
  },
  {
   "cell_type": "markdown",
   "id": "221436ae",
   "metadata": {},
   "source": [
    "# Hints\n",
    "**Have look at the simplified interface of PM4Py $\\rightarrow$ Click on the 'See Simplified Interface' buttons on the documentation page**\n",
    "\n",
    "Good way to convert a DataFrame so that it works nicely in PM4Py\n",
    "```python\n",
    "df = pm4py.format_dataframe(df, case_id=case_id_column activity_key=activity_column, timestamp_key=timestamp_column)\n",
    "```\n",
    "\n",
    "To create a DFG, you might want to use the following procedure\n",
    "```python\n",
    "dfg, start_activities, end_activities = pm4py.discover_directly_follows_graph(log)\n",
    "pm4py.view_dfg(dfg, start_activities, end_activities)\n",
    "```\n",
    "\n",
    "If you do not have ipywidgets installed, you'll probably encounter the ```IProgress not found``` error.\n",
    "In that case, it should help to deactivate the progress bar by passing a dictionary with the following key:\n",
    "```python\n",
    "{'show_progress_bar': False}\n",
    "```\n",
    "However, currently you can not use the simplified interface then. Instead you have to use the base functions.\n",
    "For example, for importing a log without progress bar, you can use\n",
    "```\n",
    "log = xes_importer.apply('log.xes',parameters={'show_progress_bar':False})\n",
    "```\n",
    "If you have ipywidgets installed\n",
    "```python\n",
    "log = pm4py.read_xes(file_path)\n",
    "```\n",
    "can be used."
   ]
  },
  {
   "cell_type": "markdown",
   "id": "c49e300a",
   "metadata": {},
   "source": [
    "## Question 1: Process Overview - Connecting the Dots"
   ]
  },
  {
   "cell_type": "markdown",
   "id": "bed5372f",
   "metadata": {},
   "source": [
    "**1c. A powerful way to reveal additional information using a Dotted Chart is to enhance the event log by additional attributes. To do so, one can use, for example, Python or PM4Py. According to Stella, age is an important factor in the vaccination process. In the Python notebook, append an additional binary event attribute that is set to 1 if and only if the age of the corresponding patient is greater than or equal to 80 (0 otherwise). Using ProM, re-create the Dotted Chart from Part b using the new attribute for coloring. Briefly describe what you observe.**"
   ]
  },
  {
   "cell_type": "code",
   "execution_count": 14,
   "id": "e7d6ef4d",
   "metadata": {},
   "outputs": [],
   "source": [
    "# All the necessary imports are taken from the above code.\n",
    "\n",
    "df = pd.read_csv('data/log_vaccination.csv', sep=',')\n",
    "df['age_factor'] = np.where(df['Age'] >= 80, 1, 0) \n",
    "df.to_csv('data/log_vaccination_enhanced.csv', index=False)"
   ]
  },
  {
   "cell_type": "markdown",
   "id": "37188a1b",
   "metadata": {},
   "source": [
    "## Question 2: Process Discovery Using Inductive Miner"
   ]
  },
  {
   "cell_type": "markdown",
   "id": "d267a105",
   "metadata": {},
   "source": [
    "2a. Load the log log_vaccination.csv and apply IM. Describe the behavior defined by the resulting model. Based on the model, explain which cuts (cut type and partitions) have been made by IM."
   ]
  },
  {
   "cell_type": "code",
   "execution_count": null,
   "id": "e5b134af",
   "metadata": {},
   "outputs": [],
   "source": []
  },
  {
   "cell_type": "markdown",
   "id": "8f428f56",
   "metadata": {},
   "source": [
    "2b. Next, you and Stella investigate the directly-follows graph of the log. A long time ago, during her studies, Stella already attended the lecture BPI (even though she did not do well in the exam). Now she is wondering about all the beautiful “possibil- ities” for sequence cuts. Would the following cuts be feasible? Explain your answer. (In your report, please refer to the numbering below.)\n",
    "1. Partition 1: Enter into System; Partition 2: Insurance Check Private, Insurance Check Statutory\n",
    "2. Partition 1: Request appointment; Partition 2: Appointment granted\n",
    "3. Partition 1: Checkout; Partition 2: Send Invoide, Send Vaccination Certificate"
   ]
  },
  {
   "cell_type": "code",
   "execution_count": null,
   "id": "1799ca4f",
   "metadata": {},
   "outputs": [],
   "source": []
  },
  {
   "cell_type": "markdown",
   "id": "031bea0f",
   "metadata": {},
   "source": [
    "2c. Investigating the DFG, Stella recognizes the Special Priority Appointment granted activity which has been introduced during the design of the system. Later, it has been decided that this activity should not be contained in the final release; however, nobody patched the prototype. As traces containing Special Priority Ap- pointment granted are rather infrequent, we postpone the analysis and decide to focus on the frequent behavior by filtering out these traces. Implement this filtering step. Afterwards, apply IM on the remaining traces and describe the resulting model (i.e., filter out traces that contain this activity). Explain how the DFG changed and why this allows for the IM to find different cuts."
   ]
  },
  {
   "cell_type": "code",
   "execution_count": null,
   "id": "67914343",
   "metadata": {},
   "outputs": [],
   "source": []
  },
  {
   "cell_type": "markdown",
   "id": "3815a526",
   "metadata": {},
   "source": [
    "2d. According to Stella there are two types of vaccines. One requires a single vaccination while the other one requires two vaccinations. Verify this claim (doing so, you may assume that the log precisely contains the events that happened in “real life”). Rename the vaccination facility-related activities related to the second vaccination (e.g., by appending enumeration). Apply IM to the resulting log and discuss the result."
   ]
  },
  {
   "cell_type": "code",
   "execution_count": null,
   "id": "b6bd8565",
   "metadata": {},
   "outputs": [],
   "source": []
  },
  {
   "cell_type": "markdown",
   "id": "aae323f0",
   "metadata": {},
   "source": [
    "2e. The model that you obtained so far (hopefully) looks quite good; however, Stella notices that it still allows for impossible behavior. Before a patient can participate in the risk talk and submit the declaration of consent, he has to register at the facility. Passing the security at the entry without registering is extremely unlikely/impossible. Besides, it is impossible that a vaccine is send to the vaccination before it has been prepared. As an attendee of an advanced process mining course is always eager to understand what happened, you decide to investigate further. Stella thinks that it might be useful to project the log onto the activities Prepare vaccine, Send vaccine to cabine, Register at vaccination facillity, and Submit Declaration, related to the second vaccination, to investigate their relationship. Luckily, this has already been done and you can simply load the log log_vaccination_e.xes. Using this log, mine a process tree with IM.\n",
    "\n",
    "- i. (4 points) Can you explain why IM discovers impossible concurrency?\n",
    "- ii. (2 points) In a general setting, is this method of projecting the initial log onto all activities contained in a subtree always applicable, or can it be problematic: will\n",
    "IM, applied to the projected log, always return the same sub-process tree?"
   ]
  },
  {
   "cell_type": "code",
   "execution_count": null,
   "id": "50695645",
   "metadata": {},
   "outputs": [],
   "source": []
  }
 ],
 "metadata": {
  "kernelspec": {
   "display_name": "Python 3",
   "language": "python",
   "name": "python3"
  },
  "language_info": {
   "codemirror_mode": {
    "name": "ipython",
    "version": 3
   },
   "file_extension": ".py",
   "mimetype": "text/x-python",
   "name": "python",
   "nbconvert_exporter": "python",
   "pygments_lexer": "ipython3",
   "version": "3.7.7"
  }
 },
 "nbformat": 4,
 "nbformat_minor": 5
}
